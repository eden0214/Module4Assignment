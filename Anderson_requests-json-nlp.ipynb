{
 "cells": [
  {
   "cell_type": "markdown",
   "metadata": {},
   "source": [
    "# Eden Anderson\n",
    "## Module 4 Assignment / 44620"
   ]
  },
  {
   "cell_type": "markdown",
   "metadata": {},
   "source": [
    "# GitHub Repository Link\n",
    "\n"
   ]
  },
  {
   "cell_type": "markdown",
   "metadata": {},
   "source": [
    "# Web Mining and Applied NLP (44-620)\n",
    "\n",
    "## Requests, JSON, and NLP\n",
    "\n",
    "### Student Name: Eden Anderson\n",
    "\n",
    "Perform the tasks described in the Markdown cells below.  When you have completed the assignment make sure your code cells have all been run (and have output beneath them) and ensure you have committed and pushed ALL of your changes to your assignment repository.\n",
    "\n",
    "Make sure you have [installed spaCy and its pipeline](https://spacy.io/usage#quickstart) and [spaCyTextBlob](https://spacy.io/universe/project/spacy-textblob)\n",
    "\n",
    "Every question that requires you to write code will have a code cell underneath it; you may either write your entire solution in that cell or write it in a python file (`.py`), then import and run the appropriate code to answer the question.\n",
    "\n",
    "This assignment requires that you write additional files (either JSON or pickle files); make sure to submit those files in your repository as well."
   ]
  },
  {
   "cell_type": "markdown",
   "metadata": {},
   "source": [
    "# Question 1"
   ]
  },
  {
   "cell_type": "markdown",
   "metadata": {},
   "source": [
    "1. The following code accesses the [lyrics.ovh](https://lyricsovh.docs.apiary.io/#reference/0/lyrics-of-a-song/search) public api, searches for the lyrics of a song, and stores it in a dictionary object.  Write the resulting json to a file (either a JSON file or a pickle file; you choose). You will read in the contents of this file for future questions so we do not need to frequently access the API."
   ]
  },
  {
   "cell_type": "code",
   "execution_count": 1,
   "metadata": {},
   "outputs": [
    {
     "name": "stdout",
     "output_type": "stream",
     "text": [
      "{'title': 'Exile', 'artist': 'Taylor Swift', 'lyrics': \"I can see you standing, honey\\nWith his arms around your body\\nLaughin', but the joke's not funny at all\\n\\nAnd it took you five whole minutes\\nTo pack us up and leave me with it\\nHoldin' all this love out here in the hall\\n\\nI think I've seen this film before\\nAnd I didn't like the ending\\nYou're not my homeland anymore\\nSo what am I defending now?\\nYou were my town\\nNow I'm in exile, seein' you out\\nI think I've seen this film before\\n\\nI can see you starin', honey\\nLike he's just your understudy\\nLike you'd get your knuckles bloody for me\\n\\nSecond, third, and hundredth chances\\nBalancin' on breaking branches\\nThose eyes add insult to injury\\n\\nI think I've seen this film before\\nAnd I didn't like the ending\\nI'm not your problem anymore\\nSo who am I offending now?\\nYou were my crown\\nNow I'm in exile, seein' you out\\nI think I've seen this film before\\nSo I'm leavin' out the side door\\n\\nSo step right out, there is no amount\\nOf crying I can do for you\\nAll this time\\nWe always walked a very thin line\\nYou didn't even hear me out (you didn't even hear me out)\\nYou never gave a warning sign (I gave so many signs)\\n\\nAll this time\\nI never learned to read your mind (never learned to read my mind)\\nI couldn't turn things around (you never turned things around)\\n'Cause you never gave a warning sign (I gave so many signs)\\nSo many signs, so many signs\\nYou didn't even see the signs\\n\\nI think I've seen this film before\\nAnd I didn't like the ending\\nYou're not my homeland anymore\\nSo what am I defending now?\\nYou were my town\\nNow I'm in exile, seein' you out\\nI think I've seen this film before\\nSo I'm leavin' out the side door\\n\\nSo step right out, there is no amount\\nOf crying I can do for you\\nAll this time\\nWe always walked a very thin line\\nYou didn't even hear me out (didn't even hear me out)\\nYou never gave a warning sign (I gave so many signs)\\n\\nAll this time\\nI never learned to read your mind (never learned to read my mind)\\nI couldn't turn things around (you never turned things around)\\n'Cause you never gave a warning sign (I gave so many signs)\\n\\nAll this time (so many signs)\\nI never learned to read your mind (so many signs)\\nI couldn't turn things around (I couldn't turn things around)\\n'Cause you never gave a warning sign (you never gave a warning sign)\\nYou never gave a warning sign\\nAh, ah\", 'source': 'Musixmatch'}\n"
     ]
    }
   ],
   "source": [
    "import requests\n",
    "import json\n",
    "\n",
    "result = json.loads(requests.get('https://lyrist.vercel.app/api/exile/taylorswift').text)\n",
    "print(result)\n",
    "\n",
    "with open('result.json', 'w') as f:\n",
    "    json.dump(result, f)"
   ]
  },
  {
   "cell_type": "markdown",
   "metadata": {},
   "source": [
    "# Question 2"
   ]
  },
  {
   "cell_type": "markdown",
   "metadata": {},
   "source": [
    "2. Read in the contents of your file.  Print the lyrics of the song (not the entire dictionary!) and use spaCyTextBlob to perform sentiment analysis on the lyrics.  Print the polarity score of the sentiment analysis.  Given that the range of the polarity score is `[-1.0,1.0]` which corresponds to how positive or negative the text in question is, do you think the lyrics have a more positive or negative connotaion?  Answer this question in a comment in your code cell."
   ]
  },
  {
   "cell_type": "code",
   "execution_count": 2,
   "metadata": {},
   "outputs": [
    {
     "name": "stdout",
     "output_type": "stream",
     "text": [
      "I can see you standing, honey\n",
      "With his arms around your body\n",
      "Laughin', but the joke's not funny at all\n",
      "\n",
      "And it took you five whole minutes\n",
      "To pack us up and leave me with it\n",
      "Holdin' all this love out here in the hall\n",
      "\n",
      "I think I've seen this film before\n",
      "And I didn't like the ending\n",
      "You're not my homeland anymore\n",
      "So what am I defending now?\n",
      "You were my town\n",
      "Now I'm in exile, seein' you out\n",
      "I think I've seen this film before\n",
      "\n",
      "I can see you starin', honey\n",
      "Like he's just your understudy\n",
      "Like you'd get your knuckles bloody for me\n",
      "\n",
      "Second, third, and hundredth chances\n",
      "Balancin' on breaking branches\n",
      "Those eyes add insult to injury\n",
      "\n",
      "I think I've seen this film before\n",
      "And I didn't like the ending\n",
      "I'm not your problem anymore\n",
      "So who am I offending now?\n",
      "You were my crown\n",
      "Now I'm in exile, seein' you out\n",
      "I think I've seen this film before\n",
      "So I'm leavin' out the side door\n",
      "\n",
      "So step right out, there is no amount\n",
      "Of crying I can do for you\n",
      "All this time\n",
      "We always walked a very thin line\n",
      "You didn't even hear me out (you didn't even hear me out)\n",
      "You never gave a warning sign (I gave so many signs)\n",
      "\n",
      "All this time\n",
      "I never learned to read your mind (never learned to read my mind)\n",
      "I couldn't turn things around (you never turned things around)\n",
      "'Cause you never gave a warning sign (I gave so many signs)\n",
      "So many signs, so many signs\n",
      "You didn't even see the signs\n",
      "\n",
      "I think I've seen this film before\n",
      "And I didn't like the ending\n",
      "You're not my homeland anymore\n",
      "So what am I defending now?\n",
      "You were my town\n",
      "Now I'm in exile, seein' you out\n",
      "I think I've seen this film before\n",
      "So I'm leavin' out the side door\n",
      "\n",
      "So step right out, there is no amount\n",
      "Of crying I can do for you\n",
      "All this time\n",
      "We always walked a very thin line\n",
      "You didn't even hear me out (didn't even hear me out)\n",
      "You never gave a warning sign (I gave so many signs)\n",
      "\n",
      "All this time\n",
      "I never learned to read your mind (never learned to read my mind)\n",
      "I couldn't turn things around (you never turned things around)\n",
      "'Cause you never gave a warning sign (I gave so many signs)\n",
      "\n",
      "All this time (so many signs)\n",
      "I never learned to read your mind (so many signs)\n",
      "I couldn't turn things around (I couldn't turn things around)\n",
      "'Cause you never gave a warning sign (you never gave a warning sign)\n",
      "You never gave a warning sign\n",
      "Ah, ah\n",
      "The polarity score of the sentiment analysis is  0.14532142857142855\n"
     ]
    }
   ],
   "source": [
    "import spacy\n",
    "from spacytextblob.spacytextblob import SpacyTextBlob\n",
    "\n",
    "f = open('result.json')\n",
    "  \n",
    "data = json.load(f)\n",
    "\n",
    "print(data.get('lyrics'))\n",
    "\n",
    "nlp = spacy.load(\"en_core_web_sm\")\n",
    "nlp.add_pipe('spacytextblob')\n",
    "text = data.get('lyrics')\n",
    "doc = nlp(text)\n",
    "\n",
    "print(\"The polarity score of the sentiment analysis is \", doc._.blob.polarity)"
   ]
  },
  {
   "cell_type": "markdown",
   "metadata": {},
   "source": [
    "Question 2 - Answered Question\n",
    "\n",
    "With a polarity score that is positive, it shows that sentiment analysis believes the lyrics have more of a positive connotation; with the score not being too much above zero, however, the lyrics still are more neutral than a more positive score.  I am honestly a bit surprised that the score landed on the positive side, since the song has so many \"never\"-type words used. (Plus the melody is more melancholoy, but I have that as an added advantage for context.)"
   ]
  },
  {
   "cell_type": "markdown",
   "metadata": {},
   "source": [
    "# Question 3"
   ]
  },
  {
   "cell_type": "markdown",
   "metadata": {},
   "source": [
    "3. Write a function that takes an artist, song, and filename, accesses the lyrics.ovh api to get the song lyrics, and writes the results to the specified filename.  Test this function by getting the lyrics to any four songs of your choice and storing them in different files."
   ]
  },
  {
   "cell_type": "code",
   "execution_count": 10,
   "metadata": {},
   "outputs": [
    {
     "name": "stdin",
     "output_type": "stream",
     "text": [
      "Name of Artist (no spaces):  taylorswift\n",
      "Name of Song (no spaces):  fearless\n",
      "Name of the file (add.json):  Fearless.json\n"
     ]
    },
    {
     "name": "stdout",
     "output_type": "stream",
     "text": [
      "\n",
      " Lyrics... \n",
      " There's somethin' bout the way\n",
      "The street looks when it's just rained\n",
      "There's a glow off the pavement\n",
      "You walk me to the car\n",
      "And you know I wanna ask you to dance right there\n",
      "In the middle of the parking lot\n",
      "Yeah\n",
      "Oh, yeah\n",
      "\n",
      "We're drivin' down the road\n",
      "I wonder if you know\n",
      "I'm tryin' so hard not to get caught up now\n",
      "But you're just so cool\n",
      "Run your hands through your hair\n",
      "Absent mindedly makin' me want you\n",
      "\n",
      "And I don't know how it gets better than this\n",
      "You take my hand and drag me head first\n",
      "Fearless\n",
      "And I don't know why\n",
      "But with you I'd dance in a storm\n",
      "In my best dress\n",
      "Fearless\n",
      "\n",
      "So baby drive slow\n",
      "'Til we run out of road in this one horse town\n",
      "I wanna stay right here in this passenger seat\n",
      "You put your eyes on me\n",
      "In this moment now capture it, remember it\n",
      "\n",
      "'Cause I don't know how it gets better than this\n",
      "You take my hand and drag me head first\n",
      "Fearless\n",
      "And I don't know why\n",
      "But with you I'd dance in a storm\n",
      "In my best dress\n",
      "Fearless\n",
      "Oh, oh\n",
      "\n",
      "Well you stood there with me in the doorway\n",
      "My hands shake\n",
      "I'm not usually this way but\n",
      "You pull me in and I'm a little more brave\n",
      "It's the first kiss, it's flawless, really something, it's fearless\n",
      "\n",
      "Oh, yeah\n",
      "\n",
      "'Cause I don't know how it gets better than this\n",
      "You take my hand and drag me head first\n",
      "Fearless\n",
      "And I don't know why\n",
      "But with you I'd dance in a storm\n",
      "In my best dress\n",
      "Fearless\n",
      "\n",
      "'Cause I don't know how it gets better than this\n",
      "You take my hand and drag me head first\n",
      "Fearless\n",
      "And I don't know why\n",
      "But with you I'd dance in a storm\n",
      "In my best dress\n",
      "Fearless\n",
      "Oh, oh, oh yeah\n"
     ]
    }
   ],
   "source": [
    "# getting input for function\n",
    "artist = input(\"Name of Artist (no spaces): \")\n",
    "song = input(\"Name of Song (no spaces): \")\n",
    "filename = input(\"Name of the file (add.json): \")\n",
    "\n",
    "def songs():\n",
    "    lyrics_dict = requests.get('https://lyrist.vercel.app/api/{:}/{:}'.format(artist, song)).json()\n",
    "    lyrics = lyrics_dict.get('lyrics')\n",
    "    print(\"\\n\", \"Lyrics...\", \"\\n\", lyrics)\n",
    "    \n",
    "with open(filename, 'w') as f:\n",
    "    json.dump(lyrics, f)\n",
    "\n",
    "songs()"
   ]
  },
  {
   "cell_type": "markdown",
   "metadata": {},
   "source": [
    "# Question 4"
   ]
  },
  {
   "cell_type": "markdown",
   "metadata": {},
   "source": [
    "4. Write a function that takes the name of a file that contains song lyrics, loads the file, performs sentiment analysis, and returns the polarity score.  Use this function to print the polarity scores (with the name of the song) of the three files you created in question 3.  Does the reported polarity match your understanding of the song's lyrics? Why or why not do you think that might be?  Answer the questions in either a comment in the code cell or a markdown cell under the code cell."
   ]
  },
  {
   "cell_type": "code",
   "execution_count": 13,
   "metadata": {},
   "outputs": [
    {
     "name": "stdin",
     "output_type": "stream",
     "text": [
      "Name of the file:  Fearless.json\n"
     ]
    },
    {
     "name": "stdout",
     "output_type": "stream",
     "text": [
      "The polarity score of the sentiment analysis for this song is  0.3153902116402117\n"
     ]
    }
   ],
   "source": [
    "## getting input for function\n",
    "\n",
    "filename = input(\"Name of the file: \")\n",
    "\n",
    "f = open(filename)\n",
    "\n",
    "nlp = spacy.load(\"en_core_web_sm\")\n",
    "nlp.add_pipe('spacytextblob')\n",
    "text = data = json.load(f)\n",
    "doc = nlp(text)\n",
    "\n",
    "print(\"The polarity score of the sentiment analysis for this song is \", doc._.blob.polarity)"
   ]
  },
  {
   "cell_type": "markdown",
   "metadata": {},
   "source": [
    "Question 4 - Answered Question\n",
    "\n",
    "Here are 4 of the polarity answers from saved files.  (Song titles in file names)\n",
    "\n",
    "1:  Name of the file:  BlankSpace.json\n",
    "The polarity score of the sentiment analysis for this song is  -0.046432900432900416\n",
    "\n",
    "2:  Name of the file:  22.json\n",
    "The polarity score of the sentiment analysis for this song is  0.15178571428571427\n",
    "\n",
    "3:  Name of the file:  Enchanted.json\n",
    "The polarity score of the sentiment analysis for this song is  0.2446078431372549\n",
    "\n",
    "4:  Name of the file:  Fearless.json\n",
    "The polarity score of the sentiment analysis for this song is  0.3153902116402117\n",
    "\n",
    "I believe the polarity of the song lyrics matches the tone of they lyrics better than I expected, after saving the first file.  This is especially noticeable in examples 3 and 4, which are more positive songs - with positive messages.  I also was excited to see the negative polarity, just to have an example of that, but also because it better recognizes some of the bleakness of the lyrics in \"Blank Space.\"  I still believe that melody plays a bigger part than just the lyrics of the song, as exemplified in the song \"22,\" which makes the listener feel more positivity than just the lyrics alone might, if left to sentiment analysis alone.\n",
    "\n"
   ]
  },
  {
   "cell_type": "code",
   "execution_count": null,
   "metadata": {},
   "outputs": [],
   "source": []
  }
 ],
 "metadata": {
  "kernelspec": {
   "display_name": "Python 3 (ipykernel)",
   "language": "python",
   "name": "python3"
  },
  "language_info": {
   "codemirror_mode": {
    "name": "ipython",
    "version": 3
   },
   "file_extension": ".py",
   "mimetype": "text/x-python",
   "name": "python",
   "nbconvert_exporter": "python",
   "pygments_lexer": "ipython3",
   "version": "3.8.13"
  }
 },
 "nbformat": 4,
 "nbformat_minor": 4
}
